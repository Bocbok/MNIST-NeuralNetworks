{
 "cells": [
  {
   "cell_type": "code",
   "execution_count": 1,
   "metadata": {},
   "outputs": [],
   "source": [
    "from __future__ import print_function\n",
    "\n",
    "import tensorflow.keras as keras\n",
    "from tensorflow.keras.datasets import mnist\n",
    "from tensorflow.keras.models import Sequential\n",
    "from tensorflow.keras.layers import Dense, Dropout\n",
    "from tensorflow.keras.optimizers import RMSprop\n",
    "\n",
    "from matplotlib import pyplot as plt"
   ]
  },
  {
   "cell_type": "code",
   "execution_count": 2,
   "metadata": {},
   "outputs": [],
   "source": [
    "batch_size = 64\n",
    "num_classes = 10\n",
    "epochs = 12"
   ]
  },
  {
   "cell_type": "markdown",
   "metadata": {},
   "source": [
    "# Get the data"
   ]
  },
  {
   "cell_type": "code",
   "execution_count": 3,
   "metadata": {},
   "outputs": [
    {
     "name": "stdout",
     "output_type": "stream",
     "text": [
      "50000 train samples\n",
      "10000 validation samples\n",
      "10000 test samples\n"
     ]
    }
   ],
   "source": [
    "(x_train, y_train), (x_test, y_test) = mnist.load_data()\n",
    "\n",
    "x_validation = x_train[:10000]\n",
    "y_validation = y_train[:10000]\n",
    "\n",
    "x_train = x_train[10000:]\n",
    "y_train = y_train[10000:]\n",
    "\n",
    "x_train = x_train.reshape(50000, 784)\n",
    "x_validation = x_validation.reshape(10000, 784)\n",
    "x_test = x_test.reshape(10000, 784)\n",
    "\n",
    "x_train = x_train.astype('float32')\n",
    "x_validation = x_validation.astype('float32')\n",
    "x_test = x_test.astype('float32')\n",
    "\n",
    "x_train /= 255\n",
    "x_validation /=255\n",
    "x_test /= 255\n",
    "\n",
    "print(x_train.shape[0], 'train samples')\n",
    "print(x_validation.shape[0], 'validation samples')\n",
    "print(x_test.shape[0], 'test samples')"
   ]
  },
  {
   "cell_type": "markdown",
   "metadata": {},
   "source": [
    "# Convert class vectors to binary class matrices"
   ]
  },
  {
   "cell_type": "code",
   "execution_count": 4,
   "metadata": {},
   "outputs": [],
   "source": [
    "y_train = keras.utils.to_categorical(y_train, num_classes)\n",
    "y_validation = keras.utils.to_categorical(y_validation, num_classes)\n",
    "y_test = keras.utils.to_categorical(y_test, num_classes)"
   ]
  },
  {
   "cell_type": "markdown",
   "metadata": {},
   "source": [
    "# Model"
   ]
  },
  {
   "cell_type": "code",
   "execution_count": 5,
   "metadata": {},
   "outputs": [],
   "source": [
    "model = Sequential()\n",
    "model.add(Dense(512, activation='relu', input_shape=(784,)))\n",
    "model.add(Dropout(0.2))\n",
    "model.add(Dense(512, activation='relu'))\n",
    "model.add(Dropout(0.2))\n",
    "model.add(Dense(num_classes, activation='softmax'))"
   ]
  },
  {
   "cell_type": "code",
   "execution_count": 6,
   "metadata": {},
   "outputs": [
    {
     "name": "stdout",
     "output_type": "stream",
     "text": [
      "Model: \"sequential\"\n",
      "_________________________________________________________________\n",
      "Layer (type)                 Output Shape              Param #   \n",
      "=================================================================\n",
      "dense (Dense)                (None, 512)               401920    \n",
      "_________________________________________________________________\n",
      "dropout (Dropout)            (None, 512)               0         \n",
      "_________________________________________________________________\n",
      "dense_1 (Dense)              (None, 512)               262656    \n",
      "_________________________________________________________________\n",
      "dropout_1 (Dropout)          (None, 512)               0         \n",
      "_________________________________________________________________\n",
      "dense_2 (Dense)              (None, 10)                5130      \n",
      "=================================================================\n",
      "Total params: 669,706\n",
      "Trainable params: 669,706\n",
      "Non-trainable params: 0\n",
      "_________________________________________________________________\n"
     ]
    }
   ],
   "source": [
    "model.summary()"
   ]
  },
  {
   "cell_type": "code",
   "execution_count": 7,
   "metadata": {
    "scrolled": true
   },
   "outputs": [
    {
     "name": "stdout",
     "output_type": "stream",
     "text": [
      "Train on 50000 samples, validate on 10000 samples\n",
      "Epoch 1/12\n",
      "50000/50000 [==============================] - 14s 272us/sample - loss: 0.3802 - accuracy: 0.8868 - val_loss: 0.1830 - val_accuracy: 0.9455\n",
      "Epoch 2/12\n",
      "50000/50000 [==============================] - 10s 204us/sample - loss: 0.1722 - accuracy: 0.9478 - val_loss: 0.1302 - val_accuracy: 0.9599\n",
      "Epoch 3/12\n",
      "50000/50000 [==============================] - 9s 181us/sample - loss: 0.1239 - accuracy: 0.9623 - val_loss: 0.1083 - val_accuracy: 0.9688\n",
      "Epoch 4/12\n",
      "50000/50000 [==============================] - 12s 240us/sample - loss: 0.0978 - accuracy: 0.9704 - val_loss: 0.0913 - val_accuracy: 0.9731\n",
      "Epoch 5/12\n",
      "50000/50000 [==============================] - 11s 222us/sample - loss: 0.0808 - accuracy: 0.9763 - val_loss: 0.0831 - val_accuracy: 0.9753\n",
      "Epoch 6/12\n",
      "50000/50000 [==============================] - 11s 220us/sample - loss: 0.0690 - accuracy: 0.9786 - val_loss: 0.1066 - val_accuracy: 0.9661\n",
      "Epoch 7/12\n",
      "50000/50000 [==============================] - 14s 275us/sample - loss: 0.0590 - accuracy: 0.9821 - val_loss: 0.0716 - val_accuracy: 0.9797\n",
      "Epoch 8/12\n",
      "50000/50000 [==============================] - 13s 262us/sample - loss: 0.0526 - accuracy: 0.9832 - val_loss: 0.0697 - val_accuracy: 0.9798\n",
      "Epoch 9/12\n",
      "50000/50000 [==============================] - 17s 341us/sample - loss: 0.0450 - accuracy: 0.9858 - val_loss: 0.0696 - val_accuracy: 0.9806\n",
      "Epoch 10/12\n",
      "50000/50000 [==============================] - 13s 266us/sample - loss: 0.0399 - accuracy: 0.9875 - val_loss: 0.1547 - val_accuracy: 0.9568\n",
      "Epoch 11/12\n",
      "50000/50000 [==============================] - 15s 303us/sample - loss: 0.0366 - accuracy: 0.9889 - val_loss: 0.0695 - val_accuracy: 0.9806\n",
      "Epoch 12/12\n",
      "50000/50000 [==============================] - 18s 353us/sample - loss: 0.0308 - accuracy: 0.9904 - val_loss: 0.0693 - val_accuracy: 0.9818\n",
      "Test loss: 0.060839374903682616\n",
      "Test accuracy: 0.9801\n"
     ]
    }
   ],
   "source": [
    "sgd = keras.optimizers.SGD(lr=0.1)\n",
    "\n",
    "model.compile(loss='categorical_crossentropy',\n",
    "             optimizer=sgd,\n",
    "             metrics=['accuracy'])\n",
    "\n",
    "history = model.fit(x_train, y_train,\n",
    "                   batch_size=batch_size,\n",
    "                   epochs=epochs,\n",
    "                   verbose=1,\n",
    "                   validation_data=(x_validation, y_validation))\n",
    "score = model.evaluate(x_test, y_test, verbose=0)\n",
    "print('Test loss:', score[0])\n",
    "print('Test accuracy:', score[1])"
   ]
  },
  {
   "cell_type": "code",
   "execution_count": 8,
   "metadata": {},
   "outputs": [
    {
     "data": {
      "image/png": "[encoded data removed]",
      "text/plain": [
       "<Figure size 432x288 with 1 Axes>"
      ]
     },
     "metadata": {
      "needs_background": "light"
     },
     "output_type": "display_data"
    }
   ],
   "source": [
    "plt.plot(history.history['loss'])\n",
    "plt.plot(history.history['val_loss'])\n",
    "plt.title('model loss')\n",
    "plt.ylabel('loss')\n",
    "plt.xlabel('epoch')\n",
    "plt.legend(['train', 'val'], loc='upper left')\n",
    "plt.show()"
   ]
  },
  {
   "cell_type": "code",
   "execution_count": 9,
   "metadata": {},
   "outputs": [
    {
     "data": {
      "image/png": "[encoded data removed]",
      "text/plain": [
       "<Figure size 432x288 with 1 Axes>"
      ]
     },
     "metadata": {
      "needs_background": "light"
     },
     "output_type": "display_data"
    }
   ],
   "source": [
    "plt.plot(history.history['accuracy'])\n",
    "plt.plot(history.history['val_accuracy'])\n",
    "plt.title('model accuracy')\n",
    "plt.ylabel('accuracy')\n",
    "plt.xlabel('epoch')\n",
    "plt.legend(['train', 'val'], loc='upper left')\n",
    "plt.show()"
   ]
  },
  {
   "cell_type": "code",
   "execution_count": null,
   "metadata": {},
   "outputs": [],
   "source": []
  }
 ],
 "metadata": {
  "kernelspec": {
   "display_name": "Python 3",
   "language": "python",
   "name": "python3"
  },
  "language_info": {
   "codemirror_mode": {
    "name": "ipython",
    "version": 3
   },
   "file_extension": ".py",
   "mimetype": "text/x-python",
   "name": "python",
   "nbconvert_exporter": "python",
   "pygments_lexer": "ipython3",
   "version": "3.7.4"
  }
 },
 "nbformat": 4,
 "nbformat_minor": 2
}
