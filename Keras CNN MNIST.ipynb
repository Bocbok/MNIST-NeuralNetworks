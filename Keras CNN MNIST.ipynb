{
 "cells": [
  {
   "cell_type": "code",
   "execution_count": 1,
   "metadata": {},
   "outputs": [],
   "source": [
    "from __future__ import print_function\n",
    "\n",
    "import tensorflow.keras as keras\n",
    "\n",
    "from tensorflow.keras.datasets import mnist\n",
    "from tensorflow.keras.models import Sequential\n",
    "from tensorflow.keras.layers import Dense, Dropout, Flatten\n",
    "from tensorflow.keras.layers import Conv2D, MaxPooling2D\n",
    "from tensorflow.keras import backend as K"
   ]
  },
  {
   "cell_type": "code",
   "execution_count": 2,
   "metadata": {},
   "outputs": [],
   "source": [
    "batch_size = 64\n",
    "num_classes = 10\n",
    "epochs = 12"
   ]
  },
  {
   "cell_type": "code",
   "execution_count": 3,
   "metadata": {},
   "outputs": [],
   "source": [
    "# input image dimensions\n",
    "img_rows, img_cols = 28, 28"
   ]
  },
  {
   "cell_type": "code",
   "execution_count": 4,
   "metadata": {},
   "outputs": [],
   "source": [
    "# The data split between train and test sets\n",
    "(x_train, y_train), (x_test, y_test) = mnist.load_data()\n",
    "\n",
    "x_validation = x_train[:10000]\n",
    "y_validation = y_train[:10000]\n",
    "\n",
    "x_train = x_train[10000:]\n",
    "y_train = y_train[10000:]"
   ]
  },
  {
   "cell_type": "code",
   "execution_count": 5,
   "metadata": {},
   "outputs": [],
   "source": [
    "if K.image_data_format() == 'channels_first':\n",
    "    x_train = x_train.reshape(x_train.shape[0], 1, img_rows, img_cols)\n",
    "    x_validation = x_validation.reshape(x_validation.shape[0], 1, img_rows, img_cols)\n",
    "    x_test = x_test.reshape(x_test.shape[0], 1, img_rows, img_cols)\n",
    "    input_shape = (1, img_rows, img_cols)\n",
    "else:\n",
    "    x_train = x_train.reshape(x_train.shape[0], img_rows, img_cols, 1)\n",
    "    x_validation = x_validation.reshape(x_validation.shape[0], img_rows, img_cols, 1)\n",
    "    x_test = x_test.reshape(x_test.shape[0], img_rows, img_cols, 1)\n",
    "    input_shape = (img_rows, img_cols, 1)"
   ]
  },
  {
   "cell_type": "code",
   "execution_count": 6,
   "metadata": {},
   "outputs": [
    {
     "name": "stdout",
     "output_type": "stream",
     "text": [
      "x_train shape: (50000, 28, 28, 1)\n",
      "50000 train samples\n",
      "10000 validation samples\n",
      "10000 test samples\n",
      "111.62744\n"
     ]
    }
   ],
   "source": [
    "x_train = x_train.astype('float32')\n",
    "x_validation = x_validation.astype('float32')\n",
    "x_test = x_test.astype('float32')\n",
    "x_train = x_train / 255.0\n",
    "x_validation = x_validation / 255.0\n",
    "x_test = x_test / 255.0\n",
    "print('x_train shape:', x_train.shape)\n",
    "print(x_train.shape[0], 'train samples')\n",
    "print(x_validation.shape[0], 'validation samples')\n",
    "print(x_test.shape[0], 'test samples')\n",
    "print(x_train[0].sum())"
   ]
  },
  {
   "cell_type": "code",
   "execution_count": 7,
   "metadata": {},
   "outputs": [],
   "source": [
    "# convert class vectors to binary class matrices\n",
    "y_train = keras.utils.to_categorical(y_train, num_classes)\n",
    "y_validation = keras.utils.to_categorical(y_validation, num_classes)\n",
    "y_test = keras.utils.to_categorical(y_test, num_classes)"
   ]
  },
  {
   "cell_type": "code",
   "execution_count": 8,
   "metadata": {},
   "outputs": [],
   "source": [
    "model = Sequential()\n",
    "model.add(Conv2D(32, kernel_size=(3,3),\n",
    "                activation='relu',\n",
    "                input_shape=input_shape))\n",
    "model.add(Conv2D(64, (3,3), activation='relu'))\n",
    "model.add(MaxPooling2D(pool_size=(2, 2)))\n",
    "model.add(Dropout(0.25))\n",
    "model.add(Flatten())\n",
    "model.add(Dense(128, activation='relu'))\n",
    "model.add(Dropout(0.5))\n",
    "model.add(Dense(num_classes, activation='softmax'))\n",
    "\n",
    "sgd = keras.optimizers.SGD(lr=0.1)\n",
    "\n",
    "model.compile(loss=keras.losses.categorical_crossentropy,\n",
    "             optimizer=sgd,\n",
    "             metrics=['accuracy'])"
   ]
  },
  {
   "cell_type": "code",
   "execution_count": 9,
   "metadata": {
    "scrolled": true
   },
   "outputs": [
    {
     "name": "stdout",
     "output_type": "stream",
     "text": [
      "Train on 50000 samples, validate on 10000 samples\n",
      "Epoch 1/12\n",
      "50000/50000 [==============================] - 8s 163us/sample - loss: 0.3817 - accuracy: 0.8823 - val_loss: 0.1136 - val_accuracy: 0.9654\n",
      "Epoch 2/12\n",
      "50000/50000 [==============================] - 6s 117us/sample - loss: 0.1306 - accuracy: 0.9608 - val_loss: 0.0876 - val_accuracy: 0.9737\n",
      "Epoch 3/12\n",
      "50000/50000 [==============================] - 6s 118us/sample - loss: 0.0941 - accuracy: 0.9710 - val_loss: 0.0851 - val_accuracy: 0.9754\n",
      "Epoch 4/12\n",
      "50000/50000 [==============================] - 6s 120us/sample - loss: 0.0762 - accuracy: 0.9763 - val_loss: 0.0520 - val_accuracy: 0.9844\n",
      "Epoch 5/12\n",
      "50000/50000 [==============================] - 6s 122us/sample - loss: 0.0653 - accuracy: 0.9797 - val_loss: 0.0521 - val_accuracy: 0.9853\n",
      "Epoch 6/12\n",
      "50000/50000 [==============================] - 6s 121us/sample - loss: 0.0567 - accuracy: 0.9818 - val_loss: 0.0476 - val_accuracy: 0.9868\n",
      "Epoch 7/12\n",
      "50000/50000 [==============================] - 6s 122us/sample - loss: 0.0533 - accuracy: 0.9832 - val_loss: 0.0461 - val_accuracy: 0.9873\n",
      "Epoch 8/12\n",
      "50000/50000 [==============================] - 6s 127us/sample - loss: 0.0482 - accuracy: 0.9847 - val_loss: 0.0444 - val_accuracy: 0.9880\n",
      "Epoch 9/12\n",
      "50000/50000 [==============================] - 7s 148us/sample - loss: 0.0416 - accuracy: 0.9867 - val_loss: 0.0430 - val_accuracy: 0.9884\n",
      "Epoch 10/12\n",
      "50000/50000 [==============================] - 7s 147us/sample - loss: 0.0387 - accuracy: 0.9880 - val_loss: 0.0463 - val_accuracy: 0.9879\n",
      "Epoch 11/12\n",
      "50000/50000 [==============================] - 8s 159us/sample - loss: 0.0373 - accuracy: 0.9886 - val_loss: 0.0478 - val_accuracy: 0.9871\n",
      "Epoch 12/12\n",
      "50000/50000 [==============================] - 7s 146us/sample - loss: 0.0338 - accuracy: 0.9888 - val_loss: 0.0462 - val_accuracy: 0.9872\n",
      "Test loss: 0.03202990765200775\n",
      "Test accuracy: 0.9906\n"
     ]
    }
   ],
   "source": [
    "history = model.fit(x_train, y_train,\n",
    "         batch_size=batch_size,\n",
    "         epochs=epochs,\n",
    "         verbose=1,\n",
    "         validation_data=(x_validation, y_validation))\n",
    "score = model.evaluate(x_test, y_test, verbose=0)\n",
    "print('Test loss:', score[0])\n",
    "print('Test accuracy:', score[1])"
   ]
  },
  {
   "cell_type": "code",
   "execution_count": 12,
   "metadata": {},
   "outputs": [
    {
     "data": {
      "image/png": "[encoded data removed]",
      "text/plain": [
       "<Figure size 432x288 with 1 Axes>"
      ]
     },
     "metadata": {
      "needs_background": "light"
     },
     "output_type": "display_data"
    }
   ],
   "source": [
    "import matplotlib.pyplot as plt\n",
    "\n",
    "plt.plot(history.history['loss'])\n",
    "plt.plot(history.history['val_loss'])\n",
    "plt.title('model loss')\n",
    "plt.ylabel('loss')\n",
    "plt.xlabel('epoch')\n",
    "plt.legend(['train', 'val'], loc='upper left')\n",
    "plt.show()"
   ]
  },
  {
   "cell_type": "code",
   "execution_count": 11,
   "metadata": {},
   "outputs": [
    {
     "data": {
      "image/png": "[encoded data removed]",
      "text/plain": [
       "<Figure size 432x288 with 1 Axes>"
      ]
     },
     "metadata": {
      "needs_background": "light"
     },
     "output_type": "display_data"
    }
   ],
   "source": [
    "plt.plot(history.history['accuracy'])\n",
    "plt.plot(history.history['val_accuracy'])\n",
    "plt.title('model accuracy')\n",
    "plt.ylabel('accuracy')\n",
    "plt.xlabel('epoch')\n",
    "plt.legend(['train', 'val'], loc='upper left')\n",
    "plt.show()"
   ]
  },
  {
   "cell_type": "code",
   "execution_count": null,
   "metadata": {},
   "outputs": [],
   "source": []
  }
 ],
 "metadata": {
  "kernelspec": {
   "display_name": "Python 3",
   "language": "python",
   "name": "python3"
  },
  "language_info": {
   "codemirror_mode": {
    "name": "ipython",
    "version": 3
   },
   "file_extension": ".py",
   "mimetype": "text/x-python",
   "name": "python",
   "nbconvert_exporter": "python",
   "pygments_lexer": "ipython3",
   "version": "3.7.4"
  }
 },
 "nbformat": 4,
 "nbformat_minor": 2
}
